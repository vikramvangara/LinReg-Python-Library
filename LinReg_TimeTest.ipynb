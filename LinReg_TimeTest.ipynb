{
  "nbformat": 4,
  "nbformat_minor": 0,
  "metadata": {
    "colab": {
      "name": "timeTest_sklearn.ipynb",
      "provenance": [],
      "collapsed_sections": [],
      "toc_visible": true
    },
    "kernelspec": {
      "name": "python3",
      "display_name": "Python 3"
    }
  },
  "cells": [
    {
      "cell_type": "markdown",
      "metadata": {
        "id": "IQISbYZhvYLc",
        "colab_type": "text"
      },
      "source": [
        "#Using Time-it function from timeit librarty for finding Execution time"
      ]
    },
    {
      "cell_type": "markdown",
      "metadata": {
        "id": "vlxgPUgvwbxt",
        "colab_type": "text"
      },
      "source": [
        "Here we are finding and comparing the time taken by various libraries to perform Linear Regression on the uploaded sample data file, 'data.txt'"
      ]
    },
    {
      "cell_type": "markdown",
      "metadata": {
        "id": "-kit1VQd0Tk2",
        "colab_type": "text"
      },
      "source": [
        "LinReg Module"
      ]
    },
    {
      "cell_type": "code",
      "metadata": {
        "id": "647vThLrwjk9",
        "colab_type": "code",
        "colab": {}
      },
      "source": [
        "import timeit\n",
        "code_LinReg = \"\"\"\n",
        "import LinReg\n",
        "x = LinReg.train('data.txt',stype='tab')\n",
        "\"\"\"\n",
        "LinReg_TimeTaken = timeit.timeit(code_LinReg,number=1000)/1000"
      ],
      "execution_count": 0,
      "outputs": []
    },
    {
      "cell_type": "markdown",
      "metadata": {
        "id": "Jo5TlSrpxJOn",
        "colab_type": "text"
      },
      "source": [
        "Printing the time taken by LinReg module for computing the regression coefficients"
      ]
    },
    {
      "cell_type": "code",
      "metadata": {
        "id": "EGR_C8j9xFFk",
        "colab_type": "code",
        "colab": {
          "base_uri": "https://localhost:8080/",
          "height": 33
        },
        "outputId": "bd1fb6ff-9501-4ff0-da0c-26de2dfd8c30"
      },
      "source": [
        "print(LinReg_TimeTaken)"
      ],
      "execution_count": 19,
      "outputs": [
        {
          "output_type": "stream",
          "text": [
            "0.0005508277069999394\n"
          ],
          "name": "stdout"
        }
      ]
    },
    {
      "cell_type": "markdown",
      "metadata": {
        "id": "fiD6c_Ngvtzq",
        "colab_type": "text"
      },
      "source": [
        "sklearn Library "
      ]
    },
    {
      "cell_type": "code",
      "metadata": {
        "id": "mPH_BgUrZw7w",
        "colab_type": "code",
        "colab": {}
      },
      "source": [
        "import timeit\n",
        "\n",
        "code_sklearn = \"\"\"\n",
        "import numpy as np\n",
        "from sklearn.linear_model import LinearRegression\n",
        "\n",
        "data = np.loadtxt('data.txt')\n",
        "\n",
        "x = data[:,0].reshape(-1,1)\n",
        "y = data[:,1]\n",
        "\n",
        "model = LinearRegression().fit(x,y)\n",
        "#print(model.coef_)\n",
        "#print(model.intercept_)\n",
        "\"\"\"\n",
        "\n",
        "sklearn_TimeTaken = timeit.timeit(code_sklearn,number=1000)/1000"
      ],
      "execution_count": 0,
      "outputs": []
    },
    {
      "cell_type": "markdown",
      "metadata": {
        "id": "dE3BFyyawCzT",
        "colab_type": "text"
      },
      "source": [
        "PRINTING THE TIME TAKEN BY SKLEARN TO COMPUTE THE REGRESSION COEFFICIENTS"
      ]
    },
    {
      "cell_type": "code",
      "metadata": {
        "id": "tOoVzibkZ7zh",
        "colab_type": "code",
        "outputId": "9db23a05-0839-4388-a11e-29da5e7d99f9",
        "colab": {
          "base_uri": "https://localhost:8080/",
          "height": 33
        }
      },
      "source": [
        "print(sklearn_TimeTaken)"
      ],
      "execution_count": 41,
      "outputs": [
        {
          "output_type": "stream",
          "text": [
            "0.0029834647040001983\n"
          ],
          "name": "stdout"
        }
      ]
    },
    {
      "cell_type": "markdown",
      "metadata": {
        "id": "aCm-4qwn0BOC",
        "colab_type": "text"
      },
      "source": [
        "Scipy Library"
      ]
    },
    {
      "cell_type": "code",
      "metadata": {
        "id": "vxxeY1en0e78",
        "colab_type": "code",
        "colab": {}
      },
      "source": [
        "code_scipy = \"\"\"\n",
        "from scipy import stats\n",
        "import numpy as np\n",
        "data = np.loadtxt('data.txt')\n",
        "x = data[:,0]\n",
        "y = data[:,1]\n",
        "slope, intercept, r_value, p_value, std_err = stats.linregress(x,y)\n",
        "\"\"\"\n",
        "\n",
        "scipy_TimeTaken = timeit.timeit(code_scipy,number=1000)/1000"
      ],
      "execution_count": 0,
      "outputs": []
    },
    {
      "cell_type": "code",
      "metadata": {
        "id": "8q9qtCD505e6",
        "colab_type": "code",
        "colab": {
          "base_uri": "https://localhost:8080/",
          "height": 33
        },
        "outputId": "f9e79834-7834-4a4b-d9b8-76f66a1a51a2"
      },
      "source": [
        "print(scipy_TimeTaken)"
      ],
      "execution_count": 34,
      "outputs": [
        {
          "output_type": "stream",
          "text": [
            "0.002903159606000145\n"
          ],
          "name": "stdout"
        }
      ]
    },
    {
      "cell_type": "markdown",
      "metadata": {
        "id": "mBCMPUxH0-Yq",
        "colab_type": "text"
      },
      "source": [
        "Now we'll print all the execution time of various libraries:"
      ]
    },
    {
      "cell_type": "code",
      "metadata": {
        "id": "26MwnXgh1Enm",
        "colab_type": "code",
        "colab": {
          "base_uri": "https://localhost:8080/",
          "height": 117
        },
        "outputId": "c01f42aa-ea4b-4432-f765-4f1adc40b6ce"
      },
      "source": [
        "print(\"LinReg --->   \",LinReg_TimeTaken,\" seconds \\n\")\n",
        "print(\"Sklearn --->   \",sklearn_TimeTaken,\" seconds\\n\")\n",
        "print(\"Scipy --->    \",scipy_TimeTaken,\" seconds\\n\")"
      ],
      "execution_count": 36,
      "outputs": [
        {
          "output_type": "stream",
          "text": [
            "LinReg --->    0.0005508277069999394  seconds \n",
            "\n",
            "Sklearn --->    0.0030337578609999126  seconds\n",
            "\n",
            "Scipy --->     0.002903159606000145  seconds\n",
            "\n"
          ],
          "name": "stdout"
        }
      ]
    },
    {
      "cell_type": "markdown",
      "metadata": {
        "id": "NKY0Wxd_1i1C",
        "colab_type": "text"
      },
      "source": [
        "Here, you can clearly observe that Sklean and Scipy take approximately same time to compute regression coefficients. Whereas, computation time of  LinReg is very less compared to others. Let's Now calulate the percentage!"
      ]
    },
    {
      "cell_type": "code",
      "metadata": {
        "id": "AdifvOpc17V4",
        "colab_type": "code",
        "colab": {
          "base_uri": "https://localhost:8080/",
          "height": 33
        },
        "outputId": "dbb21337-94c3-4cc7-f0a4-8ac61e456603"
      },
      "source": [
        "percentage_change = round((100 - (LinReg_TimeTaken/sklearn_TimeTaken)*100),2)\n",
        "print(percentage_change)"
      ],
      "execution_count": 38,
      "outputs": [
        {
          "output_type": "stream",
          "text": [
            "81.84\n"
          ],
          "name": "stdout"
        }
      ]
    },
    {
      "cell_type": "markdown",
      "metadata": {
        "id": "W3N7WQgO2d0_",
        "colab_type": "text"
      },
      "source": [
        "Amazing, isn't it! There is nearly 81 % of decrease in execution time."
      ]
    },
    {
      "cell_type": "markdown",
      "metadata": {
        "id": "2r-os9YExmhE",
        "colab_type": "text"
      },
      "source": [
        "#Comparing the code required for performing Linear Regression\n",
        "\n",
        "Here, we'll see the code required for computing the regression coefficient of various libraries to LinReg"
      ]
    },
    {
      "cell_type": "markdown",
      "metadata": {
        "id": "6eh3ERExxuxg",
        "colab_type": "text"
      },
      "source": [
        "**Using LinReg**\n",
        "\n",
        "_Simple 3 line code_"
      ]
    },
    {
      "cell_type": "code",
      "metadata": {
        "id": "XSWQTvSvukHW",
        "colab_type": "code",
        "colab": {
          "base_uri": "https://localhost:8080/",
          "height": 33
        },
        "outputId": "5ed411c7-4bb7-42b1-ad56-4d7ce9f22696"
      },
      "source": [
        "import LinReg as LR\n",
        "x = LR.train('data.txt',stype='tab')\n",
        "print(x)"
      ],
      "execution_count": 13,
      "outputs": [
        {
          "output_type": "stream",
          "text": [
            "[0.835477078662398, 14.480052875467079]\n"
          ],
          "name": "stdout"
        }
      ]
    },
    {
      "cell_type": "markdown",
      "metadata": {
        "id": "_DfXRfddyb5I",
        "colab_type": "text"
      },
      "source": [
        "Using sklearn learn library\n"
      ]
    },
    {
      "cell_type": "code",
      "metadata": {
        "id": "R81z5_rouxbh",
        "colab_type": "code",
        "colab": {
          "base_uri": "https://localhost:8080/",
          "height": 50
        },
        "outputId": "6dfabf10-dc48-4cfb-9dde-d2a5fcc9d6b8"
      },
      "source": [
        "import numpy as np\n",
        "from sklearn.linear_model import LinearRegression\n",
        "\n",
        "data = np.loadtxt('data.txt')\n",
        "\n",
        "x = data[:,0].reshape(-1,1)\n",
        "y = data[:,1]\n",
        "\n",
        "model = LinearRegression().fit(x,y)\n",
        "print(model.intercept_)\n",
        "print(model.coef_)"
      ],
      "execution_count": 11,
      "outputs": [
        {
          "output_type": "stream",
          "text": [
            "14.480052875467074\n",
            "[0.83547708]\n"
          ],
          "name": "stdout"
        }
      ]
    },
    {
      "cell_type": "code",
      "metadata": {
        "id": "IEMQe9C0uzHT",
        "colab_type": "code",
        "colab": {
          "base_uri": "https://localhost:8080/",
          "height": 33
        },
        "outputId": "7461c6b4-e5ca-4725-bfa4-50293fda24cf"
      },
      "source": [
        "from scipy import stats\n",
        "import numpy as np\n",
        "data = np.loadtxt('data.txt')\n",
        "x = data[:,0]\n",
        "y = data[:,1]\n",
        "slope, intercept, r_value, p_value, std_err = stats.linregress(x,y)\n",
        "print(slope,intercept)"
      ],
      "execution_count": 31,
      "outputs": [
        {
          "output_type": "stream",
          "text": [
            "0.8354770786623976 14.48005287546708\n"
          ],
          "name": "stdout"
        }
      ]
    },
    {
      "cell_type": "markdown",
      "metadata": {
        "id": "5DhDjuvc2xVs",
        "colab_type": "text"
      },
      "source": [
        "Here also, you can clearly see that compared to scipy and sklean take more than 6 lines of code and need other libraries to perform compute the Regression Coefficinets. Whereas, LinReg needs only 1 line to import and 1 line to compute, thats it, the job is done!"
      ]
    }
  ]
}